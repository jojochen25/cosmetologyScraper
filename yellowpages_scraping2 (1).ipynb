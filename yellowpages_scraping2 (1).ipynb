{
 "cells": [
  {
   "cell_type": "markdown",
   "metadata": {},
   "source": [
    "#### Scraping Yellowpages - business name (work on), business email, website, and address (work on)"
   ]
  },
  {
   "cell_type": "code",
   "execution_count": 124,
   "metadata": {
    "colab": {
     "base_uri": "https://localhost:8080/"
    },
    "id": "2HWPETH9_mtC",
    "outputId": "3303cb8c-7b50-46ac-dc31-b0b059a45c10",
    "tags": []
   },
   "outputs": [
    {
     "name": "stdout",
     "output_type": "stream",
     "text": [
      "[{'Website': None, 'Email': None}, {'Website': None, 'Email': None}, {'Website': None, 'Email': None}, {'Website': None, 'Email': None}, {'Website': None, 'Email': 'huonmain@gmail.com'}, {'Website': None, 'Email': None}, {'Website': 'https://haircutmenuniversitytowncentermorgantownwv.com', 'Email': None}, {'Website': 'https://roosterswings.com', 'Email': None}, {'Website': 'http://www.theshopwv.com', 'Email': 'info@theshopwv.com'}, {'Website': None, 'Email': None}, {'Website': None, 'Email': 'debbiemccardle64@gmail.com'}, {'Website': None, 'Email': None}, {'Website': None, 'Email': None}, {'Website': None, 'Email': None}, {'Website': 'http://www.senecacenter.com', 'Email': None}, {'Website': None, 'Email': None}, {'Website': None, 'Email': None}, {'Website': 'https://www.signaturestyle.com', 'Email': None}, {'Website': 'https://www.signaturestyle.com/locations/wv/morgantown/mastercuts-morgantown-mall-haircuts-4943.html', 'Email': 'customerservice@mastercuts.com'}, {'Website': 'http://www.holidayhair.com', 'Email': None}, {'Website': 'https://www.supercuts.com', 'Email': None}, {'Website': 'https://salons.greatclips.com/us/wv/morgantown/525-granville-square-shops', 'Email': None}, {'Website': 'https://www.ladiesandgents.org', 'Email': None}, {'Website': None, 'Email': None}, {'Website': None, 'Email': None}, {'Website': None, 'Email': None}, {'Website': None, 'Email': None}, {'Website': None, 'Email': None}, {'Website': 'http://ameritrade.com', 'Email': None}, {'Website': 'https://www.simplecutzbarbershop.com', 'Email': None}]\n"
     ]
    }
   ],
   "source": [
    "# websites for charleston, west virginia on yellowpage\n",
    "import requests\n",
    "from bs4 import BeautifulSoup\n",
    "data=[]\n",
    "obj={}\n",
    "target_website = \"https://www.yellowpages.com/search?search_terms=barber&geo_location_terms=Morgantown%2C%20WV\"\n",
    "resp = requests.get(target_website)\n",
    "soup=BeautifulSoup(resp.text, 'html.parser')\n",
    "allResults = soup.find_all(\"div\",{\"class\":\"result\"})\n",
    "for i in range(0,len(allResults)):\n",
    "    try:\n",
    "        #obj[\"business-name\"] = soup.find(\"a\",{\"class\":\"business-name\"}).get('href')\n",
    "        lateral_string=allResults[i].find(\"a\",{\"class\":\"business-name\"}).get('href')\n",
    "    except:\n",
    "        #obj[\"business-name\"] = None\n",
    "        lateral_string=None\n",
    "    target_website = 'https://www.yellowpages.com{}'.format(lateral_string)\n",
    "   # print(lateral_string)\n",
    "    resp = requests.get(target_website).text\n",
    "    soup=BeautifulSoup(resp, 'html.parser')\n",
    "    try:\n",
    "        obj[\"Website\"]=soup.find(\"p\",{\"class\":\"website\"}).find(\"a\").get(\"href\")\n",
    "    except:\n",
    "        obj[\"Website\"]=None\n",
    "    try:\n",
    "        obj[\"Email\"]=soup.find(\"a\",{\"class\":\"email-business\"}).get('href').replace(\"mailto:\",\"\")\n",
    "    except:\n",
    "        obj[\"Email\"]=None\n",
    "    data.append(obj)\n",
    "    obj={}\n",
    "print(data)"
   ]
  },
  {
   "cell_type": "markdown",
   "metadata": {
    "id": "RUeC8yYcE9oD"
   },
   "source": [
    "##### obtain business name, number, address from Yellowpages"
   ]
  },
  {
   "cell_type": "code",
   "execution_count": 127,
   "metadata": {
    "colab": {
     "base_uri": "https://localhost:8080/"
    },
    "id": "cxDlUgakAUmY",
    "outputId": "74d22266-34a8-4574-b703-353e3812a5ef"
   },
   "outputs": [
    {
     "name": "stdout",
     "output_type": "stream",
     "text": [
      "[{'individual-name': None, 'all-staff': None, 'number': None, 'business-number': '(304) 292-5477', 'address': '432 Spruce StMorgantown, WV 26505', 'business-name': 'Clip Joint', 'market': 'Barbershop', 'business-link': None, 'socials': None, 'email': None}, {'individual-name': None, 'all-staff': None, 'number': None, 'business-number': '(304) 599-3352', 'address': '3473 University AveMorgantown, WV 26505', 'business-name': \"Jonh's Barber Shop & Hair Stylists\", 'market': 'Barbershop', 'business-link': None, 'socials': None, 'email': None}, {'individual-name': None, 'all-staff': None, 'number': None, 'business-number': '(304) 292-6142', 'address': '720 Beechurst AveMorgantown, WV 26505', 'business-name': 'Mountaineer Manor', 'market': 'Barbershop', 'business-link': None, 'socials': None, 'email': None}, {'individual-name': None, 'all-staff': None, 'number': None, 'business-number': '(304) 599-1948', 'address': '3109 University AveMorgantown, WV 26505', 'business-name': 'Mans Image', 'market': 'Barbershop', 'business-link': None, 'socials': None, 'email': None}, {'individual-name': None, 'all-staff': None, 'number': None, 'business-number': '(304) 599-4079', 'address': '507 Burroughs St Ste 109Morgantown, WV 26505', 'business-name': 'Hair Unlimited', 'market': 'Barbershop', 'business-link': None, 'socials': None, 'email': None}, {'individual-name': None, 'all-staff': None, 'number': None, 'business-number': '(304) 292-9334', 'address': '177 Fayette StMorgantown, WV 26505', 'business-name': \"Larry's Professional Barbershop\", 'market': 'Barbershop', 'business-link': None, 'socials': None, 'email': None}, {'individual-name': None, 'all-staff': None, 'number': None, 'business-number': '(304) 599-7700', 'address': '1134 Giant StMorgantown, WV 26501', 'business-name': 'Sport Clips', 'market': 'Barbershop', 'business-link': None, 'socials': None, 'email': None}, {'individual-name': None, 'all-staff': None, 'number': None, 'business-number': '(304) 241-1002', 'address': '550 Suncrest Town Centre DrMorgantown, WV 26505', 'business-name': 'Roosters', 'market': 'Barbershop', 'business-link': None, 'socials': None, 'email': None}, {'individual-name': None, 'all-staff': None, 'number': None, 'business-number': '(304) 241-1308', 'address': '316 High StMorgantown, WV 26505', 'business-name': 'Shop', 'market': 'Barbershop', 'business-link': None, 'socials': None, 'email': None}, {'individual-name': None, 'all-staff': None, 'number': None, 'business-number': '(304) 292-9031', 'address': '218 Pleasant StMorgantown, WV 26505', 'business-name': 'Hair Cuts for Men', 'market': 'Barbershop', 'business-link': None, 'socials': None, 'email': None}, {'individual-name': None, 'all-staff': None, 'number': None, 'business-number': '(304) 241-1655', 'address': '150 Pleasant St.Morgantown, WV 26505', 'business-name': 'Arizona Hair Express', 'market': 'Barbershop', 'business-link': None, 'socials': None, 'email': None}, {'individual-name': None, 'all-staff': None, 'number': None, 'business-number': '(304) 292-9497', 'address': '184 Willey StMorgantown, WV 26505', 'business-name': 'Short Cuts Barber', 'market': 'Barbershop', 'business-link': None, 'socials': None, 'email': None}, {'individual-name': None, 'all-staff': None, 'number': None, 'business-number': '(304) 291-9595', 'address': '124 Holland Ave Ste AMorgantown, WV 26501', 'business-name': 'Headlines Barber Shop & Beauty Salon', 'market': 'Barbershop', 'business-link': None, 'socials': None, 'email': None}, {'individual-name': None, 'all-staff': None, 'number': None, 'business-number': '(304) 381-2483', 'address': '2001 University AveMorgantown, WV 26505', 'business-name': 'Classic Cutz University', 'market': 'Barbershop', 'business-link': None, 'socials': None, 'email': None}, {'individual-name': None, 'all-staff': None, 'number': None, 'business-number': '(304) 599-7737', 'address': '709 Beechurst Ave Ste 5Morgantown, WV 26505', 'business-name': 'Deangelis John & Co', 'market': 'Barbershop', 'business-link': None, 'socials': None, 'email': None}, {'individual-name': None, 'all-staff': None, 'number': None, 'business-number': '(304) 241-1655', 'address': '201 Newport AveMorgantown, WV 26501', 'business-name': 'AZ Hair Express', 'market': 'Barbershop', 'business-link': None, 'socials': None, 'email': None}, {'individual-name': None, 'all-staff': None, 'number': None, 'business-number': '(304) 381-2067', 'address': '9500 Mall RdMorgantown, WV 26501', 'business-name': 'Veracity Barbershop', 'market': 'Barbershop', 'business-link': None, 'socials': None, 'email': None}, {'individual-name': None, 'all-staff': None, 'number': None, 'business-number': '(304) 599-4164', 'address': '366 Patteson DrMorgantown, WV 26505', 'business-name': 'Famous Hair', 'market': 'Barbershop', 'business-link': None, 'socials': None, 'email': None}, {'individual-name': None, 'all-staff': None, 'number': None, 'business-number': '(304) 983-6866', 'address': '9919 Mall RdMorgantown, WV 26501', 'business-name': 'MasterCuts', 'market': 'Barbershop', 'business-link': None, 'socials': None, 'email': None}, {'individual-name': None, 'all-staff': None, 'number': None, 'business-number': '(304) 598-5840', 'address': '4191 University Town Centre DrMorgantown, WV 26501', 'business-name': 'Holiday Hair', 'market': 'Barbershop', 'business-link': None, 'socials': None, 'email': None}, {'individual-name': None, 'all-staff': None, 'number': None, 'business-number': '(304) 241-1558', 'address': '1429 Earl L Core RdMorgantown, WV 26505', 'business-name': 'Supercuts', 'market': 'Barbershop', 'business-link': None, 'socials': None, 'email': None}, {'individual-name': None, 'all-staff': None, 'number': None, 'business-number': '(304) 241-6100', 'address': '525 Granville Sq Ste 111Morgantown, WV 26501', 'business-name': 'Great Clips', 'market': 'Barbershop', 'business-link': None, 'socials': None, 'email': None}, {'individual-name': None, 'all-staff': None, 'number': None, 'business-number': '(304) 241-1383', 'address': '224 Pleasant StMorgantown, WV 26505', 'business-name': 'Ladies-Gents Salon-Barbershop', 'market': 'Barbershop', 'business-link': None, 'socials': None, 'email': None}, {'individual-name': None, 'all-staff': None, 'number': None, 'business-number': '(304) 599-3352', 'address': '3473 University AveMorgantown, WV 26505', 'business-name': \"John's Beauty Salon\", 'market': 'Barbershop', 'business-link': None, 'socials': None, 'email': None}, {'individual-name': None, 'all-staff': None, 'number': None, 'business-number': '(724) 569-8034', 'address': '93 Main StSmithfield, PA 15478', 'business-name': 'Blue Collar Barber Shop', 'market': 'Barbershop', 'business-link': None, 'socials': None, 'email': None}, {'individual-name': None, 'all-staff': None, 'number': None, 'business-number': '(304) 449-1589', 'address': '13 Curfmans VlgFairview, WV 26570', 'business-name': \"Jarrett's Barber Shop\", 'market': 'Barbershop', 'business-link': None, 'socials': None, 'email': None}, {'individual-name': None, 'all-staff': None, 'number': None, 'business-number': '(304) 366-9966', 'address': '825 E Park AveFairmont, WV 26554', 'business-name': \"Giuseppe's Barber & Styling Shop\", 'market': 'Barbershop', 'business-link': None, 'socials': None, 'email': None}, {'individual-name': None, 'all-staff': None, 'number': None, 'business-number': '(304) 363-2818', 'address': '1408 Morgantown AveFairmont, WV 26554', 'business-name': 'Ross Barber Shop', 'market': 'Barbershop', 'business-link': None, 'socials': None, 'email': None}, {'individual-name': None, 'all-staff': None, 'number': None, 'business-number': '(304) 366-0506', 'address': '1108 Virginia AveFairmont, WV 26554', 'business-name': 'Spadafore Barbering & Styling', 'market': 'Barbershop', 'business-link': None, 'socials': None, 'email': None}, {'individual-name': None, 'all-staff': None, 'number': None, 'business-number': '(304) 363-2889', 'address': '126 Adams StFairmont, WV 26554', 'business-name': 'Simple Cutz', 'market': 'Barbershop', 'business-link': None, 'socials': None, 'email': None}]\n"
     ]
    }
   ],
   "source": [
    "# only for yellowpages, get address, number\n",
    "# name of business and address (assuming that business address would be same as individual experts' work address)\n",
    "# each iteration of loop creates a new dict('obj) to store info for current results, dictionary is appended to results list\n",
    "import requests\n",
    "from bs4 import BeautifulSoup\n",
    "data=[]\n",
    "obj={}\n",
    "target_website = \"https://www.yellowpages.com/search?search_terms=barber&geo_location_terms=Morgantown%2C%20WV\"\n",
    "resp = requests.get(target_website)\n",
    "soup=BeautifulSoup(resp.text, 'html.parser')\n",
    "allResults = soup.find_all(\"div\",{\"class\":\"result\"})\n",
    "#print(allResults)\n",
    "for i in range(0,len(allResults)):\n",
    "    obj[\"individual-name\"] = None\n",
    "    obj[\"all-staff\"] = None\n",
    "    obj[\"number\"] = None\n",
    "    try:\n",
    "        obj[\"business-number\"]=allResults[i].find(\"div\",{\"class\":\"phones\"}).text\n",
    "    except:\n",
    "        obj[\"business-number\"]=None\n",
    "    try:\n",
    "        obj[\"address\"]=allResults[i].find(\"div\",{\"class\":\"adr\"}).text\n",
    "    except:\n",
    "        obj[\"address\"]=None\n",
    "    try:\n",
    "        obj[\"business-name\"]=allResults[i].find(\"a\",{\"class\":\"business-name\"}).text\n",
    "    except:\n",
    "        obj[\"business-name\"]=None\n",
    "        \n",
    "    obj[\"market\"] = \"Barbershop\"\n",
    "    obj[\"business-link\"] = None\n",
    "    obj[\"socials\"] = None\n",
    "    obj[\"email\"] = None\n",
    "\n",
    "    data.append(obj)\n",
    "    obj={}\n",
    "print(data)"
   ]
  },
  {
   "cell_type": "code",
   "execution_count": 128,
   "metadata": {
    "tags": []
   },
   "outputs": [],
   "source": [
    "import pandas as pd\n",
    "\n",
    "df_city = pd.DataFrame(data)\n",
    "df_city.to_csv('Morgantown-prof-data-yellowpages.csv', index=False)"
   ]
  },
  {
   "cell_type": "markdown",
   "metadata": {},
   "source": [
    "#### Scrape Vagaro for individual names, business names, and phone number"
   ]
  },
  {
   "cell_type": "code",
   "execution_count": null,
   "metadata": {
    "colab": {
     "base_uri": "https://localhost:8080/"
    },
    "id": "Hz4fDWLmGE7q",
    "outputId": "5abe3330-bbc9-42d5-f033-3a4a00cd64b0",
    "tags": []
   },
   "outputs": [],
   "source": [
    "# beauty_soup.py\n",
    "# getting names from vagaro, cannot due to 403 error\n",
    "import requests\n",
    "from bs4 import BeautifulSoup\n",
    "data=[]\n",
    "obj={}\n",
    "target_website2 = \"https://www.vagaro.com/professionals/wheeling--wv\"\n",
    "headers = {\n",
    "    'User-Agent': 'Mozilla/5.0 (Windows NT 10.0; Win64; x64) AppleWebKit/537.36 (KHTML, like Gecko) Chrome/91.0.4472.124 Safari/537.36'\n",
    "}\n",
    "with requests.Session() as session:\n",
    "    resp2 = session.get(target_website2, headers=headers)\n",
    "\n",
    "soup=BeautifulSoup(resp2.text, 'html.parser')\n",
    "#print(resp2.text)\n",
    "print(resp2.status_code)\n"
   ]
  },
  {
   "cell_type": "markdown",
   "metadata": {},
   "source": [
    "Can't make request to URL due to 403 error (security reasons?). Tried again and it gives 200 so authorization is successful"
   ]
  },
  {
   "cell_type": "markdown",
   "metadata": {},
   "source": [
    "https://www.westvirginia-demographics.com/cities_by_population"
   ]
  },
  {
   "cell_type": "markdown",
   "metadata": {},
   "source": [
    "If get 403 error, run this cell; skip if authorization is successful or received 200:"
   ]
  },
  {
   "cell_type": "code",
   "execution_count": null,
   "metadata": {
    "colab": {
     "base_uri": "https://localhost:8080/",
     "height": 140
    },
    "id": "KabzuWXpJfIa",
    "outputId": "3eb5a5b7-3c56-4040-e70a-a6e457b3929c",
    "tags": []
   },
   "outputs": [],
   "source": [
    "#Could not make a request to the url so kept getting 403 error (although tried again and it was successful as got 200) which means website might be blocking scraping. \n",
    "#So tried downloading the webpage to my pc so that the html code is stored as a file.\n",
    "import requests\n",
    "from bs4 import BeautifulSoup\n",
    "data=[]\n",
    "obj={}\n",
    "# Specify the path to your HTML file\n",
    "file_path = r'/Users/ChenJ15/Documents/spotlist_data/charleston--wv'\n",
    "\n",
    "# Open the file and read its content\n",
    "with open(file_path, 'r', encoding='utf-8') as file\n",
    "    html_content = file.read()\n",
    "\n",
    "# Now you can process the HTML content as needed\n",
    "soup=BeautifulSoup(html_content, 'html.parser')"
   ]
  },
  {
   "cell_type": "markdown",
   "metadata": {},
   "source": [
    "Run for this to get names, business names, and links containing phone numbers:"
   ]
  },
  {
   "cell_type": "code",
   "execution_count": null,
   "metadata": {
    "tags": []
   },
   "outputs": [],
   "source": [
    "# to go through all cards (barbers) on the target site\n",
    "allResults2 = soup.find_all(\"div\", {\"class\": \"gallery-solo-image pro w-inline-block professional-div cust-img-popup-slider\"})\n",
    "for i in range(0,len(allResults2)):\n",
    "    try:\n",
    "        obj[\"individual-name\"]=allResults2[i].find(\"div\",{\"class\":\"text-block-4 web-display-small\"}).text\n",
    "    except:\n",
    "        obj[\"individual-name\"]=None\n",
    "    try:\n",
    "        obj[\"business-name\"] = allResults2[i].find(\"div\",{\"class\":\"text-block-5 web-body-font\"}).text\n",
    "    except:\n",
    "        obj[\"business-name\"] = None\n",
    "    try: #.strip to remove leading \\n\n",
    "        obj[\"location\"] = allResults2[i].find(\"div\", {\"class\": \"text-block-6 web-body-font\"}).text.strip()\n",
    "    except:\n",
    "        obj[\"location\"] = None\n",
    "    data.append(obj)\n",
    "    obj={}\n",
    "\n",
    "\n",
    "# extracting links containing phone number and storing into staff_links\n",
    "staff_links = soup.find_all('a', href=lambda href: href and '/staff' in href)\n",
    "\n",
    "list_links = [] # new list containing links with individuals phone numbers\n",
    "# Extract and print the href attribute of each \"/staff\" link\n",
    "for link in staff_links:\n",
    "    href = link.get('href')\n",
    "    new_href = href.replace('../../../', 'https://www.vagaro.com/')\n",
    "    list_links.append(new_href)\n",
    "    #print(new_href)\n",
    "    \n",
    "# Now you can process the HTML content as needed\n",
    "#soup=BeautifulSoup(html_content, 'html.parser')\n",
    "\n",
    "#INCORRECT: for each obj (dictionary), iterates through all links in the list--\n",
    "#overrides assignment of link each time to link key so that ultimately the \n",
    "# last link is saved as the value for link key (all obj have the same linkxx)\n",
    "#for obj in data:\n",
    "#    for link in list_links:\n",
    "#        obj[\"link\"] = link\n",
    "\n"
   ]
  },
  {
   "cell_type": "markdown",
   "metadata": {},
   "source": [
    "if 403 error, run this:"
   ]
  },
  {
   "cell_type": "code",
   "execution_count": null,
   "metadata": {},
   "outputs": [],
   "source": [
    "soup=BeautifulSoup(html_content, 'html.parser')"
   ]
  },
  {
   "cell_type": "markdown",
   "metadata": {
    "tags": []
   },
   "source": [
    "To extract phone numbers, run:"
   ]
  },
  {
   "cell_type": "code",
   "execution_count": null,
   "metadata": {
    "tags": []
   },
   "outputs": [],
   "source": [
    "#iterate through all links in list_links and extract phone numbers:\n",
    "# can't due to privacy?\n",
    "list_soup_objects = [] # each item is a html code of each link\n",
    "for link in list_links:\n",
    "    resp_link = requests.get(link)\n",
    "    if resp_link.status_code == 200:\n",
    "        soup = BeautifulSoup(resp_link.text, 'html.parser')\n",
    "        list_soup_objects.append(soup)\n",
    "    else:\n",
    "        print(f\"Failed to fetch {link}. Status Code: {resp_link.status_code}\")\n",
    "\n",
    "print(list_soup_objects)\n"
   ]
  },
  {
   "cell_type": "markdown",
   "metadata": {},
   "source": [
    "403 error so unable to extract"
   ]
  },
  {
   "cell_type": "code",
   "execution_count": null,
   "metadata": {
    "tags": []
   },
   "outputs": [],
   "source": [
    "# add list of links containing phone numbers to each corresponding dictionary item\n",
    "# data is a list [] containing dictionaries representing each barber. Each dictionary contains key-value pairs that \n",
    "# reprsent barber characteristics like link, name, number, etc\n",
    "for obj in data: # obj = dictionary\n",
    "    # removes each link starting from beginning of list and assigns url to the link key for each dictionary (obj)\n",
    "    obj['link_number'] = list_links.pop(0) if list_links else None \n",
    "print(data)\n",
    "    "
   ]
  },
  {
   "cell_type": "markdown",
   "metadata": {},
   "source": [
    "Convert List of Dictionary objects (individual experts) to dataframe for vagaro sites"
   ]
  },
  {
   "cell_type": "code",
   "execution_count": null,
   "metadata": {
    "tags": []
   },
   "outputs": [],
   "source": [
    "import pandas as pd\n",
    "\n",
    "df_city = pd.DataFrame(data)\n",
    "df_city.to_csv('Wheeling-prof-data.csv', index=False)"
   ]
  },
  {
   "cell_type": "markdown",
   "metadata": {},
   "source": [
    "#### Scrape Booksy for social media links, individual number, and maybe address and expert name"
   ]
  },
  {
   "cell_type": "code",
   "execution_count": 111,
   "metadata": {
    "tags": []
   },
   "outputs": [
    {
     "name": "stdout",
     "output_type": "stream",
     "text": [
      "200\n"
     ]
    }
   ],
   "source": [
    "# Scrape Morgantown WV, \n",
    "# getting names from vagaro, cannot due to 403 error\n",
    "import requests\n",
    "from bs4 import BeautifulSoup\n",
    "data_booksy=[]\n",
    "obj_booksy={}\n",
    "booksy_site = \"https://booksy.com/en-us/s/40747_morgantown\"\n",
    "headers = {\n",
    "    'User-Agent': 'Mozilla/5.0 (Windows NT 10.0; Win64; x64) AppleWebKit/537.36 (KHTML, like Gecko) Chrome/91.0.4472.124 Safari/537.36'\n",
    "}\n",
    "with requests.Session() as session:\n",
    "    resp_b = session.get(booksy_site, headers=headers)\n",
    "\n",
    "soup=BeautifulSoup(resp_b.text, 'html.parser')\n",
    "#print(resp2.text)\n",
    "print(resp_b.status_code)"
   ]
  },
  {
   "cell_type": "code",
   "execution_count": 112,
   "metadata": {
    "tags": []
   },
   "outputs": [],
   "source": [
    "# to go through all cards (barbers) on the target site\n",
    "# or this: purify_+0xylkMK1VlcZQwXVcUnNw==\n",
    "# purify_+0xylkMK1VlcZQwXVcUnNw==\n",
    "booksyRes = soup.find_all(\"div\", {\"class\": \"purify_+0xylkMK1VlcZQwXVcUnNw==\"})"
   ]
  },
  {
   "cell_type": "code",
   "execution_count": null,
   "metadata": {
    "tags": []
   },
   "outputs": [],
   "source": [
    "# just extract links to cards\n",
    "# for each card:\n",
    "for i in range(0,len(booksyRes)):\n",
    "    try:\n",
    "        obj[\"link_individual\"]=booksyRes[i].find(\"a\").get(\"href\")\n",
    "    except:\n",
    "        obj[\"link_individual\"]=None\n",
    "    data.append(obj)\n",
    "    obj={}"
   ]
  },
  {
   "cell_type": "code",
   "execution_count": null,
   "metadata": {
    "tags": []
   },
   "outputs": [],
   "source": [
    "print(data)"
   ]
  },
  {
   "cell_type": "code",
   "execution_count": 113,
   "metadata": {
    "tags": []
   },
   "outputs": [
    {
     "name": "stdout",
     "output_type": "stream",
     "text": [
      "['https://booksy.com/en-us/156036_playboys-barber-studio_barber-shop_40747_morgantown#ba_s=sr_1', 'https://booksy.com/en-us/147975_classic-cutz-steve_barber-shop_40747_morgantown#ba_s=sr_1', 'https://booksy.com/en-us/749236_classiccutz_barber-shop_40747_morgantown#ba_s=sr_1', 'https://booksy.com/en-us/585907_misfit-manes_hair-salon_40747_morgantown#ba_s=sr_1', 'https://booksy.com/en-us/150610_diamond-cuts_barber-shop_40747_morgantown#ba_s=sr_1', 'https://booksy.com/en-us/1026594_jt-2bcut_barber-shop_40747_morgantown#ba_s=sr_1', 'https://booksy.com/en-us/139105_clutchogbarber_barber-shop_40747_morgantown#ba_s=sr_1', 'https://booksy.com/en-us/585908_the-lifestyle-spa-salon_hair-salon_40747_morgantown#ba_s=sr_1', 'https://booksy.com/en-us/534791_playboy-s-barber-studio_barber-shop_40747_morgantown#ba_s=sr_1', 'https://booksy.com/en-us/186143_stylush-salon_hair-salon_40747_morgantown#ba_s=sr_1', 'https://booksy.com/en-us/188939_studio-101_barber-shop_40747_morgantown#ba_s=sr_1', 'https://booksy.com/en-us/220722_gents-co_barber-shop_40747_morgantown#ba_s=sr_1', 'https://booksy.com/en-us/352229_jamesthebarber_barber-shop_40747_morgantown#ba_s=sr_1', 'https://booksy.com/en-us/344161_beauty-by-jessi_brows-lashes_40747_morgantown#ba_s=sr_1', 'https://booksy.com/en-us/333009_hair-trip-salon-spa_hair-salon_40747_morgantown#ba_s=sr_1', 'https://booksy.com/en-us/239230_d-markutz_barber-shop_40747_morgantown#ba_s=sr_1', 'https://booksy.com/en-us/354511_arizona-hair-express_skin-care_40747_morgantown#ba_s=sr_1', 'https://booksy.com/en-us/402596_bradsbarbershop_barber-shop_40747_morgantown#ba_s=sr_1', 'https://booksy.com/en-us/248297_classic-cutz-barbershop_barber-shop_40747_morgantown#ba_s=sr_1', 'https://booksy.com/en-us/191936_diamond-cuts_barber-shop_40747_morgantown#ba_s=sr_1']\n"
     ]
    }
   ],
   "source": [
    "base_url = \"https://booksy.com\"\n",
    "list_ind = [base_url + booksyRes[i].find(\"a\").get(\"href\") for i in range(0,len(booksyRes))]\n",
    "print(list_ind)"
   ]
  },
  {
   "cell_type": "code",
   "execution_count": 114,
   "metadata": {
    "tags": []
   },
   "outputs": [],
   "source": [
    "list_soup_objects = [] # each item is a html code of each page link directs to\n",
    "for link in list_ind:\n",
    "    resp_link = requests.get(link)\n",
    "    if resp_link.status_code == 200:\n",
    "        soup = BeautifulSoup(resp_link.text, 'html.parser')\n",
    "        list_soup_objects.append(soup)\n",
    "    else:\n",
    "        print(f\"Failed to fetch {link}. Status Code: {resp_link.status_code}\")"
   ]
  },
  {
   "cell_type": "code",
   "execution_count": null,
   "metadata": {
    "tags": []
   },
   "outputs": [],
   "source": [
    "print(list_soup_objects[1]) # check if html code is accessible for one link (classical cutz steve)"
   ]
  },
  {
   "cell_type": "code",
   "execution_count": 122,
   "metadata": {
    "tags": []
   },
   "outputs": [],
   "source": [
    "# extract social media links\n",
    "data_booksy=[]\n",
    "obj_booksy={}\n",
    "link_tracker = 0\n",
    "#find(\"a\").get(\"href\")\n",
    "for link in list_soup_objects:\n",
    "    staff_text_list = []\n",
    "    more_names = False\n",
    "    #try:\n",
    "        # social_media_div = link.find(\"div\", class_=\"purify_e4hi6toYG6next+QPGdhww==\", attrs={\"data-testid\": \"social-media-share-btn\"})\n",
    "        # obj_booksy[\"social-media\"] = social_media_div.find(\"a\")['href']\n",
    "        # purify_e4hi6toYG6next+QPGdhww== purify_cntiG73GH7zFuNw7TgwvWQ==\n",
    "        #obj_booksy[\"social-media\"] = link.find(\"div\",{\"class\":\"purify_VbEpwGf39H6+5nz2giTf5w==\"}).find(\"a\").get(\"href\")\n",
    "        #obj_booksy[\"social-media\"] = link.find(\"a\", {\"class\": \"purify_b6ZO5VAzh2IvKY8mzErnJA==\"})\n",
    "    #except:\n",
    "    #    obj_booksy[\"social-media\"] = None\n",
    "    \n",
    "    # this only gets the first name found in \"Reviews\" section (not very accurate)\n",
    "    # if there is None in all-staff and individual-name is not None, more sure that that is their number\n",
    "    try:\n",
    "        obj_booksy[\"individual-name\"] = link.find(\"span\", class_=\"purify_1kU6a4uf5B8gTXP9sSrbTA==\", attrs={\"data-testid\": \"review-staffer\"}).text.strip()\n",
    "    except:\n",
    "        obj_booksy[\"individual-name\"] = None\n",
    "    try: \n",
    "        list_staff = link.find_all(\"span\", class_=\"purify_1kU6a4uf5B8gTXP9sSrbTA==\", attrs={\"data-testid\": \"review-staffer\"}) # list contains duplicates\n",
    "       # staff_text_list = []\n",
    "\n",
    "        for staff_element in list_staff:\n",
    "            staff_text = staff_element.get_text(strip=True)\n",
    "            if staff_text not in staff_text_list:\n",
    "                staff_text_list.append(staff_text)\n",
    "        if len(staff_text_list) > 1:\n",
    "            obj_booksy[\"all-staff\"] = staff_text_list\n",
    "            more_names = True # indicate when there is more than one staff member\n",
    "           # getList_names(staff_text_list)\n",
    "        else:\n",
    "            obj_booksy[\"all-staff\"] = None\n",
    "    except:\n",
    "        obj_booksy[\"all-staff\"] = None\n",
    "            \n",
    "    try:\n",
    "        obj_booksy[\"number\"] = link.find(\"div\", {\"class\": \"purify_dFcdTMoibUeU0IQhEe9mHA==\"}).text.strip()\n",
    "    except:\n",
    "        obj_booksy[\"number\"] = None\n",
    "    try:\n",
    "        obj_booksy[\"address\"] = link.find(\"div\", {\"class\": \"purify_prm7MfDXczhTZvcY5KwOuA== purify_Sardy6hfiet162IZ2pYFPA== purify_m9mNOPjpHD0tNTW6GC+hEw==\"}).text.strip()\n",
    "    except:\n",
    "        obj_booksy[\"address\"] = None\n",
    "    try:\n",
    "        obj_booksy[\"business-name\"] = link.find(\"h1\", {\"class\": \"purify_3UeKw5MV+NerIrQNs8HSXA== purify_IbX1Bb-sl2ffhqyi9xUH1A==\"}).text.strip()\n",
    "    except:\n",
    "        obj_booksy[\"business-name\"] = None\n",
    "    try:\n",
    "        obj_booksy[\"market\"] = link.find(\"a\", {\"class\": \"purify_jZ007xv78mnpJQia3P-ZqQ== purify_IbX1Bb-sl2ffhqyi9xUH1A== purify_m9mNOPjpHD0tNTW6GC+hEw==\"}).text.strip()\n",
    "    except:\n",
    "        obj_booksy[\"market\"] = None\n",
    "    try:\n",
    "        obj_booksy[\"business-link\"] = list_ind[link_tracker]\n",
    "        link_tracker+=1\n",
    "    except:\n",
    "        obj_booksy[\"business-link\"] = None\n",
    "        link_tracker+=1\n",
    "        \n",
    "    data_booksy.append(obj_booksy)\n",
    "    \n",
    "    \n",
    "    if more_names: # if more than one staff member, create a new dictionary item newobj_booksy or entry\n",
    "        for name in staff_text_list[1:]:\n",
    "            newobj_booksy = {}\n",
    "            newobj_booksy[\"individual-name\"] = name\n",
    "            newobj_booksy[\"all-staff\"] = staff_text_list\n",
    "            newobj_booksy[\"number\"] = None\n",
    "            newobj_booksy[\"address\"] = obj_booksy[\"address\"]\n",
    "            newobj_booksy[\"business-name\"] = obj_booksy[\"business-name\"]\n",
    "            newobj_booksy[\"market\"] = obj_booksy[\"market\"]\n",
    "            newobj_booksy[\"business-link\"] = obj_booksy[\"business-link\"]\n",
    "            data_booksy.append(newobj_booksy)\n",
    "            # newobj_booksy = {}\n",
    "        \n",
    "    obj_booksy={}\n",
    "    \n",
    "    # data_booksy.append(obj_booksy)\n",
    "    # obj_booksy={}\n",
    "\n",
    "    # purify_jZ007xv78mnpJQia3P-ZqQ== purify_IbX1Bb-sl2ffhqyi9xUH1A== purify_m9mNOPjpHD0tNTW6GC+hEw=="
   ]
  },
  {
   "cell_type": "code",
   "execution_count": 123,
   "metadata": {
    "tags": []
   },
   "outputs": [
    {
     "name": "stdout",
     "output_type": "stream",
     "text": [
      "[{'individual-name': 'Rosa', 'all-staff': ['Rosa', 'Stevie Turner', 'Rio'], 'number': '(681) 331-8937', 'address': '185 1/2 Holland Ave, Morgantown, WV, 26501', 'business-name': 'Playboys Barber Studio', 'market': 'Barbershop', 'business-link': 'https://booksy.com/en-us/156036_playboys-barber-studio_barber-shop_40747_morgantown#ba_s=sr_1'}, {'individual-name': 'Stevie Turner', 'all-staff': ['Rosa', 'Stevie Turner', 'Rio'], 'number': None, 'address': '185 1/2 Holland Ave, Morgantown, WV, 26501', 'business-name': 'Playboys Barber Studio', 'market': 'Barbershop', 'business-link': 'https://booksy.com/en-us/156036_playboys-barber-studio_barber-shop_40747_morgantown#ba_s=sr_1'}, {'individual-name': 'Rio', 'all-staff': ['Rosa', 'Stevie Turner', 'Rio'], 'number': None, 'address': '185 1/2 Holland Ave, Morgantown, WV, 26501', 'business-name': 'Playboys Barber Studio', 'market': 'Barbershop', 'business-link': 'https://booksy.com/en-us/156036_playboys-barber-studio_barber-shop_40747_morgantown#ba_s=sr_1'}, {'individual-name': 'Steven Thorn', 'all-staff': None, 'number': '(304) 376-2695', 'address': '219 Wall St, Morgantown, 26505', 'business-name': 'Classic Cutz Steve', 'market': 'Barbershop', 'business-link': 'https://booksy.com/en-us/147975_classic-cutz-steve_barber-shop_40747_morgantown#ba_s=sr_1'}, {'individual-name': 'Marvin Watson', 'all-staff': None, 'number': '(304) 807-2128', 'address': '219 Wall St, Morgantown, 26505', 'business-name': 'Classiccutz', 'market': 'Barbershop', 'business-link': 'https://booksy.com/en-us/749236_classiccutz_barber-shop_40747_morgantown#ba_s=sr_1'}, {'individual-name': 'Rachel Ware', 'all-staff': None, 'number': '(304) 625-1829', 'address': '11 Commerce Dr, Suite 100, Suite 100, Morgantown, 26501', 'business-name': 'Misfit Manes', 'market': 'Hair Salon', 'business-link': 'https://booksy.com/en-us/585907_misfit-manes_hair-salon_40747_morgantown#ba_s=sr_1'}, {'individual-name': 'Dwaine Jones', 'all-staff': ['Dwaine Jones', 'Dro', 'Timmy Morris', 'Davey Hamilton'], 'number': '(304) 276-4464', 'address': '401 Congress Ave, Morgantown, 26505', 'business-name': 'Diamond Cuts', 'market': 'Barbershop', 'business-link': 'https://booksy.com/en-us/150610_diamond-cuts_barber-shop_40747_morgantown#ba_s=sr_1'}, {'individual-name': 'Dro', 'all-staff': ['Dwaine Jones', 'Dro', 'Timmy Morris', 'Davey Hamilton'], 'number': None, 'address': '401 Congress Ave, Morgantown, 26505', 'business-name': 'Diamond Cuts', 'market': 'Barbershop', 'business-link': 'https://booksy.com/en-us/150610_diamond-cuts_barber-shop_40747_morgantown#ba_s=sr_1'}, {'individual-name': 'Timmy Morris', 'all-staff': ['Dwaine Jones', 'Dro', 'Timmy Morris', 'Davey Hamilton'], 'number': None, 'address': '401 Congress Ave, Morgantown, 26505', 'business-name': 'Diamond Cuts', 'market': 'Barbershop', 'business-link': 'https://booksy.com/en-us/150610_diamond-cuts_barber-shop_40747_morgantown#ba_s=sr_1'}, {'individual-name': 'Davey Hamilton', 'all-staff': ['Dwaine Jones', 'Dro', 'Timmy Morris', 'Davey Hamilton'], 'number': None, 'address': '401 Congress Ave, Morgantown, 26505', 'business-name': 'Diamond Cuts', 'market': 'Barbershop', 'business-link': 'https://booksy.com/en-us/150610_diamond-cuts_barber-shop_40747_morgantown#ba_s=sr_1'}, {'individual-name': 'Jovel Tubice', 'all-staff': None, 'number': '(304) 906-6892', 'address': '1225 Pineview Apartments, Morgantown, 26505', 'business-name': 'Jt_2bcut', 'market': 'Barbershop', 'business-link': 'https://booksy.com/en-us/1026594_jt-2bcut_barber-shop_40747_morgantown#ba_s=sr_1'}, {'individual-name': 'Randy Martinez', 'all-staff': None, 'number': '(681) 367-2667', 'address': '1225 Pineview Apartments, Morgantown, 26505', 'business-name': 'ClutchOGbarber', 'market': 'Barbershop', 'business-link': 'https://booksy.com/en-us/139105_clutchogbarber_barber-shop_40747_morgantown#ba_s=sr_1'}, {'individual-name': None, 'all-staff': None, 'number': None, 'address': '11 Commerce Dr, Suite 100, Morgantown, 26501', 'business-name': 'The Lifestyle Spa & Salon', 'market': 'Hair Salon', 'business-link': 'https://booksy.com/en-us/585908_the-lifestyle-spa-salon_hair-salon_40747_morgantown#ba_s=sr_1'}, {'individual-name': None, 'all-staff': None, 'number': None, 'address': '185 1/2 Holland Ave, Morgantown, WV, 26501', 'business-name': \"Playboy's Barber Studio\", 'market': 'Barbershop', 'business-link': 'https://booksy.com/en-us/534791_playboy-s-barber-studio_barber-shop_40747_morgantown#ba_s=sr_1'}, {'individual-name': 'Jessica Hill', 'all-staff': None, 'number': '(304) 906-1339', 'address': '185 1/2 Holland ave, Westover, 26501', 'business-name': 'Stylush Salon', 'market': 'Hair Salon', 'business-link': 'https://booksy.com/en-us/186143_stylush-salon_hair-salon_40747_morgantown#ba_s=sr_1'}, {'individual-name': 'Steven Turner', 'all-staff': None, 'number': '(301) 992-9847', 'address': '101 E. brockway Ave., Morgantown, WV, 26505', 'business-name': 'Studio 101', 'market': 'Barbershop', 'business-link': 'https://booksy.com/en-us/188939_studio-101_barber-shop_40747_morgantown#ba_s=sr_1'}, {'individual-name': None, 'all-staff': None, 'number': '(304) 619-0669', 'address': '200-220 Pleasant Street, Morgantown, 26505', 'business-name': 'Gents & Co.', 'market': 'Barbershop', 'business-link': 'https://booksy.com/en-us/220722_gents-co_barber-shop_40747_morgantown#ba_s=sr_1'}, {'individual-name': None, 'all-staff': None, 'number': '(304) 371-2947', 'address': 'High St, 209, Morgantown, 26505', 'business-name': '@jamesthebarber', 'market': 'Barbershop', 'business-link': 'https://booksy.com/en-us/352229_jamesthebarber_barber-shop_40747_morgantown#ba_s=sr_1'}, {'individual-name': None, 'all-staff': None, 'number': '(304) 257-3293', 'address': '3101 Grants Drive, Morgantown, 26505', 'business-name': 'Beauty By Jessi', 'market': 'Brows & Lashes', 'business-link': 'https://booksy.com/en-us/344161_beauty-by-jessi_brows-lashes_40747_morgantown#ba_s=sr_1'}, {'individual-name': None, 'all-staff': None, 'number': '(304) 685-8683', 'address': '4169 Fairmont road, Morgantown, WV, 26501', 'business-name': 'Hair Trip Salon & Spa', 'market': 'Hair Salon', 'business-link': 'https://booksy.com/en-us/333009_hair-trip-salon-spa_hair-salon_40747_morgantown#ba_s=sr_1'}, {'individual-name': None, 'all-staff': None, 'number': '(614) 314-9338', 'address': '150 Pleasant St, Morgantown, 26505', 'business-name': \"D'MarKutz\", 'market': 'Barbershop', 'business-link': 'https://booksy.com/en-us/239230_d-markutz_barber-shop_40747_morgantown#ba_s=sr_1'}, {'individual-name': None, 'all-staff': None, 'number': '(304) 216-8249', 'address': 'Pleasant St, 150, Morgantown, 26505', 'business-name': 'Arizona Hair Express', 'market': 'Skin Care', 'business-link': 'https://booksy.com/en-us/354511_arizona-hair-express_skin-care_40747_morgantown#ba_s=sr_1'}, {'individual-name': None, 'all-staff': None, 'number': '(681) 285-7729', 'address': '598 N High St, 600, Morgantown, 26505', 'business-name': 'Bradsbarbershop', 'market': 'Barbershop', 'business-link': 'https://booksy.com/en-us/402596_bradsbarbershop_barber-shop_40747_morgantown#ba_s=sr_1'}, {'individual-name': None, 'all-staff': None, 'number': '(304) 241-1790', 'address': '2001 University Avenue, Morgantown, 26505', 'business-name': 'Classic Cutz Barbershop', 'market': 'Barbershop', 'business-link': 'https://booksy.com/en-us/248297_classic-cutz-barbershop_barber-shop_40747_morgantown#ba_s=sr_1'}, {'individual-name': 'Stevie Turner', 'all-staff': None, 'number': '(301) 992-9847', 'address': '3446 University Ave, Suite 3, Morgantown, WV, 26505', 'business-name': 'Diamond Cuts', 'market': 'Barbershop', 'business-link': 'https://booksy.com/en-us/191936_diamond-cuts_barber-shop_40747_morgantown#ba_s=sr_1'}]\n"
     ]
    }
   ],
   "source": [
    "print(data_booksy)"
   ]
  },
  {
   "cell_type": "code",
   "execution_count": null,
   "metadata": {
    "tags": []
   },
   "outputs": [],
   "source": [
    "list_staff = list_soup_objects[0].find_all(\"span\", class_=\"purify_1kU6a4uf5B8gTXP9sSrbTA==\", attrs={\"data-testid\": \"review-staffer\"})"
   ]
  },
  {
   "cell_type": "code",
   "execution_count": 85,
   "metadata": {
    "tags": []
   },
   "outputs": [],
   "source": [
    "staff_text_list = []\n",
    "\n",
    "for staff_element in list_staff:\n",
    "    staff_text = staff_element.get_text(strip=True)\n",
    "    if staff_text not in staff_text_list:\n",
    "        staff_text_list.append(staff_text)\n"
   ]
  },
  {
   "cell_type": "code",
   "execution_count": 86,
   "metadata": {
    "tags": []
   },
   "outputs": [
    {
     "name": "stdout",
     "output_type": "stream",
     "text": [
      "['Rosa', 'Stevie Turner', 'Rio']\n"
     ]
    }
   ],
   "source": [
    "print(staff_text_list)"
   ]
  },
  {
   "cell_type": "code",
   "execution_count": 90,
   "metadata": {
    "tags": []
   },
   "outputs": [
    {
     "name": "stdout",
     "output_type": "stream",
     "text": [
      "{'multiple-names': ['Rosa', 'Stevie Turner', 'Rio']}\n"
     ]
    }
   ],
   "source": [
    "obj = {}\n",
    "obj[\"multiple-names\"] = staff_text_list\n",
    "print(obj)"
   ]
  },
  {
   "cell_type": "code",
   "execution_count": null,
   "metadata": {
    "tags": []
   },
   "outputs": [],
   "source": [
    "# why does it keep getting boosky's social media info?? the soup object doesn't contain the link \n",
    "# to the barbers' social media? only booksy's social media\n",
    "print(data_booksy)"
   ]
  },
  {
   "cell_type": "code",
   "execution_count": 105,
   "metadata": {
    "tags": []
   },
   "outputs": [],
   "source": [
    "import pandas as pd\n",
    "\n",
    "df_city = pd.DataFrame(data_booksy)\n",
    "df_city.to_csv('Morgantown-prof-data-booksy-2.csv', index=False)"
   ]
  },
  {
   "cell_type": "code",
   "execution_count": null,
   "metadata": {
    "tags": []
   },
   "outputs": [],
   "source": [
    "# extract social media links for each individual\n",
    "# try extracting from one link to card directly\n",
    "import requests\n",
    "from bs4 import BeautifulSoup\n",
    "data=[]\n",
    "obj={}\n",
    "target_booksy = \"https://booksy.com/en-us/156036_playboys-barber-studio_barber-shop_40747_morgantown#ba_s=sr_1\"\n",
    "headers = {\n",
    "    'User-Agent': 'Mozilla/5.0 (Windows NT 10.0; Win64; xsoup.find(_link64) AppleWebKit/537.36 (KHTML, like Gecko) Chrome/91.0.4472.124 Safari/537.36'\n",
    "}\n",
    "with requests.Session() as session:\n",
    "    resp2 = session.get(target_booksy, headers=headers)\n",
    "\n",
    "soup2=BeautifulSoup(resp2.text, 'html.parser')\n",
    "#print(resp2.text)\n",
    "print(resp2.status_code)"
   ]
  },
  {
   "cell_type": "code",
   "execution_count": null,
   "metadata": {
    "tags": []
   },
   "outputs": [],
   "source": [
    "text = str(soup2)"
   ]
  },
  {
   "cell_type": "code",
   "execution_count": null,
   "metadata": {
    "tags": []
   },
   "outputs": [],
   "source": [
    "import re, codecs\n",
    "# instagram_link:\"https:\\u002F\\u002Finstagram.com\\u002Fstevieplayboy?igshid=YmMyMTA2M2Y=\"\n",
    "\n",
    "try:\n",
    "    encoded_url = text.find(re.compile(r'_link:\"(.*?)\"')) #(r'_link:\"')) \n",
    "    match = re.search(r'_link:\"(.*?)\"', soup)\n",
    "    print(match)\n",
    "   # print(encoded_url)\n",
    "    decoded_url = codecs.decode(encoded_link, 'unicode_escape')\n",
    "   # _, _, rest_of_link = social_media_div.partition('_link:')\n",
    "   # decoded_url = codecs.decode(rest_of_link.strip(), 'unicode_escape')\n",
    "    \n",
    "    #obj_booksy[\"social-media\"] = social_media_div.find(\"a\")['href']\n",
    "    #purify_e4hi6toYG6next+QPGdhww== purify_cntiG73GH7zFuNw7TgwvWQ==\n",
    "    #obj_booksy[\"social-media\"] = link.find(\"div\",{\"class\":\"purify_VbEpwGf39H6+5nz2giTf5w==\"}).find(\"a\").get(\"href\")\n",
    "    #obj_booksy[\"social-media\"] = link.find(\"a\", {\"class\": \"purify_b6ZO5VAzh2IvKY8mzErnJA==\"})\n",
    "except:\n",
    "    decoded_url = None\n",
    "   # obj_booksy[\"social-media\"] = None\n",
    "\n",
    "print(decoded_url)"
   ]
  },
  {
   "cell_type": "code",
   "execution_count": null,
   "metadata": {
    "tags": []
   },
   "outputs": [],
   "source": [
    "import re\n",
    "text = str(soup2)\n",
    "\n",
    "# Define a regular expression pattern to match the Instagram link\n",
    "pattern = re.compile(r'instagram_link:\"(https:\\/\\/instagram\\.com\\/\\S+)\"')\n",
    "\n",
    "# Use the findall method to extract all matches\n",
    "matches = pattern.findall(text)\n",
    "\n",
    "# Print the extracted Instagram link\n",
    "if matches:\n",
    "    instagram_link = matches[0]\n",
    "    print(\"Instagram Link:\", instagram_link)\n",
    "else:\n",
    "    print(\"Instagram link not found.\")\n"
   ]
  },
  {
   "cell_type": "code",
   "execution_count": null,
   "metadata": {
    "tags": []
   },
   "outputs": [],
   "source": [
    "import json\n",
    "\n",
    "# Your provided string\n",
    "# Convert the JSON-like string to a Python dictionary\n",
    "data_dict = json.loads(\"{\" + text + \"}\")\n",
    "\n",
    "# Extract the Instagram link from the dictionary\n",
    "instagram_link = data_dict.get(\"instagram_link\", None)\n",
    "\n",
    "# Print the extracted Instagram link\n",
    "if instagram_link:\n",
    "    print(\"Instagram Link:\", instagram_link)\n",
    "else:\n",
    "    print(\"Instagram link not found.\")\n"
   ]
  },
  {
   "cell_type": "code",
   "execution_count": null,
   "metadata": {
    "tags": []
   },
   "outputs": [],
   "source": [
    "text = '[],staffer_id:[k],prepayment:f,promotion:a,service_price:aS,omnibus_price:a}],partner_app_data:{},type:ar,staffer_id:[k],photos:[],is_available_for_customer_booking:c,suggest_services:{input:[lY,at],contexts:{business_categories:[_,$,aa,ab],is_b_listing:b,location:ac}},price:aC,treatment_parent_id:a,name:lY,id:2792072,combo_type:a,addons_available:b,is_traveling_service:b,order:g,service_price:aS}],order:h}],booking_mode:\"A\",booking_policy:\"Changes allowed up to 1 hours before visit\",phone:\"(304) 376-2695\",website:e,facebook_link:e,instagram_link:\"http:\\u002F\\u002Finstagram.com\\u002FClassicCutzSteve\\u002F\",credit_cards:e,ecommerce_link:e,booking_max_modification_time:60,booking_max_lead_time:43200,pos_pay_by_app_enabled:b,pos_market_pay_enabled:c,deposit_cancel_time:{},'\n",
    "#text2 = str(soup2)\n",
    "#print(text2)\n",
    "instagram_link_match = re.search(r'_link\\s*:\\s*\"(http:\\/\\/\\S+)\"', text)\n",
    "print(instagram_link_match)\n",
    "\n",
    "if instagram_link_match:\n",
    "    instagram_link = instagram_link_match.group(1)\n",
    "    print(instagram_link)\n",
    "else:\n",
    "    print(\"Instagram link not found.\")"
   ]
  },
  {
   "cell_type": "code",
   "execution_count": null,
   "metadata": {
    "tags": []
   },
   "outputs": [],
   "source": [
    "import re\n",
    "\n",
    "text = '1 days before visit\",phone:\"(681) 331-8937\",website:e,facebook_link:e,instagram_link:\"https:\\u002F\\u002Finstagram.com\\u002Fstevieplayboy?igshid=YmMyMTA2M2Y=\",credit_cards:e,ecommerce_link:e,booking_max_modification_time:1440,booking_max_lead_time:259200,pos_pay_by_app_enabled:c,pos_market_pay_enabled:c,deposit_cancel_time:{hours:aP},deposit_policy:\"This business enforces a cancellation policy on select services and reserves the right to charge a cancellation fee for any no-shows and late cancellations. Note that you may be considered a no-show if you are late for your scheduled appointment, and it is up to the business to decide whether the fee is applied.\\n\\nThe cancellation fee is only charged if you violate the terms of the cancellation policy. If you show up to the appointment on time or cancel before the deadline listed on your confirmation page, no cancellation fee is withdrawn from your account. As the fee is not charged for successful appointments, you will be expected to pay for your appointment in full once the service is completed.\",service_fee:f,parking:a,wheelchair_access:a,opening_hours_note:e,open_hours:[{open_till:bn,open_from:be,day_of_week:h},{open_till:bn,open_from:be,day_of_week:ao},{open_till:bn,open_from:be,day_of_week:n},{open_till:bn,open_from:be,day_of_week:p},{open_till:bn,open_from:be'\n",
    "\n",
    "matches = re.findall(r'[^:]+:(.*?)(?:(?=\",)|$)', text)\n",
    "\n",
    "for match in matches:\n",
    "    print(match.strip())\n"
   ]
  },
  {
   "cell_type": "code",
   "execution_count": null,
   "metadata": {
    "tags": []
   },
   "outputs": [],
   "source": [
    "print(list_soup_objects[1])"
   ]
  },
  {
   "cell_type": "code",
   "execution_count": null,
   "metadata": {
    "tags": []
   },
   "outputs": [],
   "source": [
    "# example links: https://booksy.com/en-us/193380_p-lee_barber-shop_134575_richmond#ba_s=sr_1\n",
    "# example links: https://booksy.com/en-us/147975_classic-cutz-steve_barber-shop_40747_morgantown#ba_s=sr_1\n",
    "# scrape industry that is indicated on the bottom\n",
    "data_booksy=[]\n",
    "obj_booksy={}\n",
    "\n",
    "for link in list_soup_objects: # each item is html code for that link\n",
    "    obj_booksy[\"individual-name\"] = []\n",
    "    try:\n",
    "        # Use .find_all() to get all occurrences of the specified <div>\n",
    "        names = link.find_all(\"span\", {\"class\": \"purify_1kU6a4uf5B8gTXP9sSrbTA==\"}).text\n",
    "        \n",
    "        # Iterate over the found names and add them to the list\n",
    "        for name in names:\n",
    "            if name_text not in obj_booksy[\"individual-name\"]:\n",
    "                obj_booksy[\"individual-name\"].append(name_text)\n",
    "    except:\n",
    "        obj_booksy[\"individual-name\"]=None\n",
    "    data_booksy.append(obj_booksy)\n",
    "    obj_booksy={}"
   ]
  },
  {
   "cell_type": "code",
   "execution_count": null,
   "metadata": {
    "tags": []
   },
   "outputs": [],
   "source": [
    "print(data_booksy)"
   ]
  },
  {
   "cell_type": "code",
   "execution_count": null,
   "metadata": {},
   "outputs": [],
   "source": [
    "    try:\n",
    "        obj_booksy[\"social-media\"] = allResults2[i].find(\"div\",{\"class\":\"text-block-5 web-body-font\"}).text\n",
    "    except:\n",
    "        obj_booksy[\"social-media\"] = None\n",
    "    try:\n",
    "        obj_booksy[\"business-name\"]=link.find(\"div\",{\"class\":\"text-block-4 web-display-small\"}).text\n",
    "    except:\n",
    "        obj_booksy[\"business-name\"]=None"
   ]
  },
  {
   "cell_type": "markdown",
   "metadata": {},
   "source": [
    "Try replacing url with proxy url"
   ]
  },
  {
   "cell_type": "code",
   "execution_count": null,
   "metadata": {},
   "outputs": [],
   "source": [
    "  try:\n",
    "        obj[\"business-name\"] = allResults2[i].find(\"div\",{\"class\":\"text-block-5 web-body-font\"}).text\n",
    "    except:\n",
    "        obj[\"business-name\"] = None\n",
    "    try: #.strip to remove leading \\n\n",
    "        obj[\"location\"] = allResults2[i].find(\"div\", {\"class\": \"text-block-6 web-body-font\"}).text.strip()\n",
    "    except:\n",
    "        obj[\"location\"] = None\n",
    "proxies = {\n",
    "    'http': 'http://your-proxy-url',\n",
    "    'https': 'https://your-proxy-url',\n",
    "}\n",
    "\n",
    "with requests.Session() as session:\n",
    "    resp2 = session.get(target_website2, headers=headers, proxies=proxies)\n"
   ]
  },
  {
   "cell_type": "code",
   "execution_count": null,
   "metadata": {
    "tags": []
   },
   "outputs": [],
   "source": [
    "# extracting links containing phone number and storing into staff_links\n",
    "staff_links = soup.find_all('a', href=lambda href: href and '/staff' in href)\n",
    "\n",
    "list_links = [] # new list containing links with individuals phone numbers\n",
    "# Extract and print the href attribute of each \"/staff\" link"
   ]
  }
 ],
 "metadata": {
  "colab": {
   "provenance": []
  },
  "kernelspec": {
   "display_name": "Python 3 (ipykernel)",
   "language": "python",
   "name": "python3"
  },
  "language_info": {
   "codemirror_mode": {
    "name": "ipython",
    "version": 3
   },
   "file_extension": ".py",
   "mimetype": "text/x-python",
   "name": "python",
   "nbconvert_exporter": "python",
   "pygments_lexer": "ipython3",
   "version": "3.11.5"
  }
 },
 "nbformat": 4,
 "nbformat_minor": 4
}
